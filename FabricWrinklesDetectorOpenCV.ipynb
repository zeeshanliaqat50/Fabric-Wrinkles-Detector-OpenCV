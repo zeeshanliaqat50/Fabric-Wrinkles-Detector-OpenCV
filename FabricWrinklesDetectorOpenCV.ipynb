{
 "cells": [
  {
   "cell_type": "code",
   "execution_count": 1,
   "metadata": {},
   "outputs": [
    {
     "data": {
      "text/plain": [
       "<Figure size 640x480 with 1 Axes>"
      ]
     },
     "metadata": {},
     "output_type": "display_data"
    },
    {
     "data": {
      "text/plain": [
       "<Figure size 1500x1500 with 1 Axes>"
      ]
     },
     "metadata": {},
     "output_type": "display_data"
    },
    {
     "data": {
      "text/plain": [
       "<Figure size 640x480 with 1 Axes>"
      ]
     },
     "metadata": {},
     "output_type": "display_data"
    },
    {
     "data": {
      "text/plain": [
       "<Figure size 1500x1500 with 1 Axes>"
      ]
     },
     "metadata": {},
     "output_type": "display_data"
    },
    {
     "data": {
      "text/plain": [
       "<Figure size 1850x1050 with 2 Axes>"
      ]
     },
     "metadata": {},
     "output_type": "display_data"
    },
    {
     "name": "stdout",
     "output_type": "stream",
     "text": [
      "There are white pixel on the cloth, Estimated number is    31354.333333333332\n",
      "There are dark pixels in the number of 108243.66666666667\n",
      "Width of the image is  939\n",
      "Height of the.image is  446\n",
      "Total Number of Pixels : 139598.0\n",
      "The Percentage of the wrinkles in the cloth is : 22.46044594717212\n",
      "Mean is \n",
      " [[133.50802543]\n",
      " [132.31333066]\n",
      " [191.14109085]]\n",
      "SD is \n",
      " [[47.54619202]\n",
      " [48.40653325]\n",
      " [62.64431116]]\n"
     ]
    },
    {
     "data": {
      "text/plain": [
       "(939, 446, 3)"
      ]
     },
     "execution_count": 1,
     "metadata": {},
     "output_type": "execute_result"
    }
   ],
   "source": [
    "\n",
    "import cv2\n",
    "import matplotlib.pyplot as plt\n",
    "\n",
    "\n",
    "#mg_name=input('Enter name of image')\n",
    "img=cv2.imread('bd.jpg')\n",
    "img=cv2.cvtColor(img,cv2.COLOR_BGR2RGB)\n",
    "#img=cv2.fastNlMeansDenoisingColored(img,None,10,10,9,27)\n",
    "img=cv2.medianBlur(img,7) \n",
    "#img=cv2.bilateralFilter(img,9,75,75)\n",
    "#img = cv2.GaussianBlur(img, (5,5), 1)\n",
    "l2=cv2.Canny(img,100,150,L2gradient=True)\n",
    "l1=img #Original\n",
    "titles=[\"Edge Detection\",\"Original\"]\n",
    "output=[l2,l1]\n",
    "\n",
    "for i in range(2):\n",
    "    plt.subplot(1,2,i+1)\n",
    "    plt.figure(figsize=(15,15))\n",
    "    plt.imshow(output[i],cmap='gray')\n",
    "    plt.title(titles[i])\n",
    "    plt.xticks([])\n",
    "    plt.yticks([])\n",
    "    plt.show() \n",
    "    \n",
    "hist1=cv2.calcHist([l2],[0],None,[256],[0,256]) \n",
    "hist2=cv2.calcHist([l1],[0],None,[256],[0,256]) \n",
    "histo=[hist1,hist2]\n",
    "fig,ax=plt.subplots(nrows=1,ncols=2)\n",
    "fig.set_size_inches(18.5, 10.5, forward=True)\n",
    "ax[0].set_title(\"Edged Detection\")\n",
    "ax[0].plot(hist1)\n",
    "ax[1].set_title(\"Original\")\n",
    "ax[1].plot(hist2)\n",
    "plt.show()\n",
    "\n",
    "thresh = cv2.threshold(l2, 200, 255,cv2.THRESH_BINARY)[1]\n",
    "thresh = cv2.dilate(thresh, None, iterations=3)\n",
    "plt.imshow(thresh)\n",
    "\n",
    "l=thresh.tolist()\n",
    "brightpixels=thresh[thresh==255]\n",
    "darkpixels=thresh[thresh==0]\n",
    "if(len(brightpixels)>50):\n",
    "    print(\"There are white pixel on the cloth, Estimated number is   \",len(brightpixels)/3)\n",
    "    print(\"There are dark pixels in the number of\",len(darkpixels)/3)\n",
    "if(len(brightpixels)<50):\n",
    "    print(\"There are no wrinkles on the cloth\")\n",
    "    \n",
    "width,height=thresh.shape\n",
    "print(\"Width of the image is \",width)\n",
    "print(\"Height of the.image is \",height)\n",
    "\n",
    "#PErcentageFormula=obtaiend/Total*100\n",
    "\n",
    "totalPixels=(thresh.size)/3\n",
    "ObtainedBP=len(brightpixels)/3\n",
    "print(\"Total Number of Pixels :\",totalPixels)\n",
    "WrinklePercentage=(ObtainedBP/totalPixels)*100\n",
    "print(\"The Percentage of the wrinkles in the cloth is :\",WrinklePercentage)\n",
    "mean, std = cv2.meanStdDev(img)\n",
    "print('Mean is \\n',mean)\n",
    "print('SD is \\n',std)\n",
    "img.shape\n",
    "\n",
    "\n",
    "\n"
   ]
  },
  {
   "cell_type": "code",
   "execution_count": null,
   "metadata": {},
   "outputs": [],
   "source": []
  }
 ],
 "metadata": {
  "kernelspec": {
   "display_name": "Python 3",
   "language": "python",
   "name": "python3"
  },
  "language_info": {
   "codemirror_mode": {
    "name": "ipython",
    "version": 3
   },
   "file_extension": ".py",
   "mimetype": "text/x-python",
   "name": "python",
   "nbconvert_exporter": "python",
   "pygments_lexer": "ipython3",
   "version": "3.7.5"
  }
 },
 "nbformat": 4,
 "nbformat_minor": 2
}
